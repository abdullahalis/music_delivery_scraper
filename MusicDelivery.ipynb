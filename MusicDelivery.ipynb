{
 "cells": [
  {
   "cell_type": "code",
   "execution_count": null,
   "id": "2ce05cf3",
   "metadata": {},
   "outputs": [],
   "source": [
    "#!pip install snscrape"
   ]
  },
  {
   "cell_type": "code",
   "execution_count": null,
   "id": "e5cfb7ff",
   "metadata": {
    "scrolled": true
   },
   "outputs": [],
   "source": [
    "pip install twitterscraper"
   ]
  },
  {
   "cell_type": "code",
   "execution_count": null,
   "id": "52e732e1",
   "metadata": {},
   "outputs": [],
   "source": [
    "import pandas as pd\n",
    "import snscrape.modules.twitter as sntwitter\n",
    "import re\n",
    "import os\n",
    "import os.path\n",
    "import smtplib\n",
    "from email.mime.multipart import MIMEMultipart\n",
    "from email.mime.text import MIMEText\n",
    "from email.mime.audio import MIMEAudio\n",
    "from email.utils import COMMASPACE\n",
    "from email.mime.application import MIMEApplication\n",
    "from twitterscraper import query_tweets"
   ]
  },
  {
   "cell_type": "code",
   "execution_count": null,
   "id": "13c2fcd0",
   "metadata": {},
   "outputs": [],
   "source": [
    "# Send email to list of email addresses with given subject, text, and attachments\n",
    "def send_mail(send_from, password, email_list, subject, text, beat_dirs,\n",
    "              smtp_server=\"127.0.0.1\", port=587):\n",
    "    assert isinstance(email_list, list)\n",
    "    \n",
    "    # Iterate through each email address\n",
    "    for recipient in email_list:\n",
    "        msg = MIMEMultipart()\n",
    "        msg['From'] = send_from\n",
    "        msg['To'] = recipient\n",
    "        msg['Subject'] = subject\n",
    "\n",
    "    msg.attach(MIMEText(text))\n",
    "\n",
    "    # Attach MP3 files\n",
    "    for mp3_file in beat_dirs:\n",
    "        if os.path.isfile(mp3_file):\n",
    "            with open(mp3_file, \"rb\") as f:\n",
    "                mp3_attachment = MIMEAudio(f.read(), \"audio\")\n",
    "                mp3_attachment.add_header(\n",
    "                    \"Content-Disposition\",\n",
    "                    \"attachment\",\n",
    "                    filename=os.path.basename(mp3_file)\n",
    "                )\n",
    "                msg.attach(mp3_attachment)\n",
    "\n",
    "    try:\n",
    "        # Connect to the SMTP server\n",
    "        server = smtplib.SMTP(smtp_server, port)\n",
    "        server.starttls()\n",
    "        server.login(send_from, password)\n",
    "\n",
    "        # Send the email\n",
    "        server.send_message(msg)\n",
    "        print(f\"Email sent to {recipient}\")\n",
    "\n",
    "        # Disconnect from the SMTP server\n",
    "        server.quit()\n",
    "\n",
    "    except Exception as e:\n",
    "        print(f\"Error sending email to {recipient}: {str(e)}\")"
   ]
  },
  {
   "cell_type": "code",
   "execution_count": null,
   "id": "e455a827",
   "metadata": {},
   "outputs": [],
   "source": [
    "date = input(\"From what start date would you like to search Twitter? (YYY-MM-DD)\")\n",
    "\n",
    "# Search Twitter for tweets asking for producers to send beats\n",
    "query = \"(send beats since: 2023-06-28\"\n",
    "tweets = []\n",
    "limit = 1000\n",
    "\n",
    "for tweet in sntwitter.TwitterSearchScraper(query).get_items():\n",
    "    if len(tweets) == limit:\n",
    "        break\n",
    "    \n",
    "    tweets.append([tweet.date, tweet.user.username, tweet.content, tweet.url])\n",
    "df = pd.DataFrame(tweets, columns=['Date', 'Username', 'Tweet', 'URL'])\n",
    "df.to_csv('SendBeatsTag.csv')"
   ]
  },
  {
   "cell_type": "markdown",
   "id": "f8d779ab",
   "metadata": {},
   "source": [
    "df"
   ]
  },
  {
   "cell_type": "code",
   "execution_count": null,
   "id": "59c44d81",
   "metadata": {},
   "outputs": [],
   "source": [
    "# Extract tweets that have an email address\n",
    "dfEmails = df[df['Tweet'].str.contains(r'\\b[A-Za-z0-9._%+-]+@[A-Za-z0-9.-]+\\.[A-Za-z]{2,}\\b', na=False)]\n",
    "\n",
    "# Approve tweets to add to mailing list\n",
    "email_list = []\n",
    "for tweet in dfEmails['Tweet']:\n",
    "    print(tweet)\n",
    "    \n",
    "    if (input(\"Add to mailing list? (y/n)\").lower() == \"y\"):\n",
    "        emails = re.findall(r'\\b[A-Za-z0-9._%+-]+@[A-Za-z0-9.-]+\\.[A-Za-z]{2,}\\b', tweet)\n",
    "        email_list.extend(emails)\n",
    "    print()"
   ]
  },
  {
   "cell_type": "code",
   "execution_count": null,
   "id": "62e36444",
   "metadata": {
    "scrolled": true
   },
   "outputs": [],
   "source": [
    "# Add all audio file directories in folder to a list\n",
    "folder_path = '/Users/27abd/Desktop/Brogramming/Twitter Scrape/Zinda_Summary'\n",
    "\n",
    "beat_dirs = []\n",
    "for root, dirs, files in os.walk(folder_path):\n",
    "    for file in files:\n",
    "        if \"mp3\" in file:\n",
    "            print(os.path.join(root, file))\n",
    "            beat_dirs.append(os.path.join(root, file))"
   ]
  },
  {
   "cell_type": "code",
   "execution_count": null,
   "id": "5f053c00",
   "metadata": {
    "scrolled": true
   },
   "outputs": [],
   "source": [
    "# Create email's subject and text\n",
    "email_subject = \"A beat pack for you\"\n",
    "email_text = \"Hey I'm Zinda, I saw you were looking for beats so I put together a pack that showcases a couple of the different genres I produce. If you like what you hear hit me back here or on IG: https://www.instagram.com/abszinda/.\\n\\n Check out the rest of my beats here: https://www.beatstars.com/zindastupendous \\n-Zinda\"\n",
    "\n",
    "\n",
    "send_mail(\"wahbhaibeats@gmail.com\", \"zjofxjjjrjnvhqda\", email_list, email_subject, email_text, beat_dirs, \"smtp.gmail.com\", 587)"
   ]
  }
 ],
 "metadata": {
  "kernelspec": {
   "display_name": "Python 3 (ipykernel)",
   "language": "python",
   "name": "python3"
  },
  "language_info": {
   "codemirror_mode": {
    "name": "ipython",
    "version": 3
   },
   "file_extension": ".py",
   "mimetype": "text/x-python",
   "name": "python",
   "nbconvert_exporter": "python",
   "pygments_lexer": "ipython3",
   "version": "3.9.13"
  }
 },
 "nbformat": 4,
 "nbformat_minor": 5
}
